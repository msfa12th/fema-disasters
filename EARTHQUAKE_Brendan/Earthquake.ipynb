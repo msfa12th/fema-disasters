{
 "cells": [
  {
   "cell_type": "markdown",
   "metadata": {},
   "source": [
    "## FEMA Disasters/ Earthquake code"
   ]
  },
  {
   "cell_type": "markdown",
   "metadata": {},
   "source": [
    "by Brendan Law"
   ]
  },
  {
   "cell_type": "markdown",
   "metadata": {},
   "source": [
    "This application reads data from the earthquake file. Then extracts necessary columns, transforms values as needed and loads into earthquake table. Finally via SQL code, it loads common fields into NATURAL_DISASTER table for easy comparison with other source data. Original source: https://www.kaggle.com/usgs/earthquake-database#database.csv"
   ]
  },
  {
   "cell_type": "code",
   "execution_count": 1,
   "metadata": {},
   "outputs": [],
   "source": [
    "import pandas as pd\n",
    "from sqlalchemy import create_engine"
   ]
  },
  {
   "cell_type": "code",
   "execution_count": 16,
   "metadata": {},
   "outputs": [
    {
     "data": {
      "text/html": [
       "<div>\n",
       "<style scoped>\n",
       "    .dataframe tbody tr th:only-of-type {\n",
       "        vertical-align: middle;\n",
       "    }\n",
       "\n",
       "    .dataframe tbody tr th {\n",
       "        vertical-align: top;\n",
       "    }\n",
       "\n",
       "    .dataframe thead th {\n",
       "        text-align: right;\n",
       "    }\n",
       "</style>\n",
       "<table border=\"1\" class=\"dataframe\">\n",
       "  <thead>\n",
       "    <tr style=\"text-align: right;\">\n",
       "      <th></th>\n",
       "      <th>EarthQ_ID</th>\n",
       "      <th>ID</th>\n",
       "      <th>Date</th>\n",
       "      <th>Time</th>\n",
       "      <th>Latitude</th>\n",
       "      <th>Longitude</th>\n",
       "      <th>Type</th>\n",
       "      <th>Depth</th>\n",
       "      <th>Magnitude</th>\n",
       "      <th>Magnitude_Type</th>\n",
       "      <th>Source</th>\n",
       "      <th>Status</th>\n",
       "    </tr>\n",
       "  </thead>\n",
       "  <tbody>\n",
       "    <tr>\n",
       "      <th>0</th>\n",
       "      <td>ISCGEM860706</td>\n",
       "      <td>1</td>\n",
       "      <td>1/2/65</td>\n",
       "      <td>13:44:18</td>\n",
       "      <td>19.246</td>\n",
       "      <td>145.616</td>\n",
       "      <td>Earthquake</td>\n",
       "      <td>131.6</td>\n",
       "      <td>6.0</td>\n",
       "      <td>MW</td>\n",
       "      <td>ISCGEM</td>\n",
       "      <td>Automatic</td>\n",
       "    </tr>\n",
       "    <tr>\n",
       "      <th>1</th>\n",
       "      <td>ISCGEM860737</td>\n",
       "      <td>2</td>\n",
       "      <td>1/4/65</td>\n",
       "      <td>11:29:49</td>\n",
       "      <td>1.863</td>\n",
       "      <td>127.352</td>\n",
       "      <td>Earthquake</td>\n",
       "      <td>80.0</td>\n",
       "      <td>5.8</td>\n",
       "      <td>MW</td>\n",
       "      <td>ISCGEM</td>\n",
       "      <td>Automatic</td>\n",
       "    </tr>\n",
       "    <tr>\n",
       "      <th>2</th>\n",
       "      <td>ISCGEM860762</td>\n",
       "      <td>3</td>\n",
       "      <td>1/5/65</td>\n",
       "      <td>18:05:58</td>\n",
       "      <td>-20.579</td>\n",
       "      <td>-173.972</td>\n",
       "      <td>Earthquake</td>\n",
       "      <td>20.0</td>\n",
       "      <td>6.2</td>\n",
       "      <td>MW</td>\n",
       "      <td>ISCGEM</td>\n",
       "      <td>Automatic</td>\n",
       "    </tr>\n",
       "    <tr>\n",
       "      <th>3</th>\n",
       "      <td>ISCGEM860856</td>\n",
       "      <td>4</td>\n",
       "      <td>1/8/65</td>\n",
       "      <td>18:49:43</td>\n",
       "      <td>-59.076</td>\n",
       "      <td>-23.557</td>\n",
       "      <td>Earthquake</td>\n",
       "      <td>15.0</td>\n",
       "      <td>5.8</td>\n",
       "      <td>MW</td>\n",
       "      <td>ISCGEM</td>\n",
       "      <td>Automatic</td>\n",
       "    </tr>\n",
       "    <tr>\n",
       "      <th>4</th>\n",
       "      <td>ISCGEM860890</td>\n",
       "      <td>5</td>\n",
       "      <td>1/9/65</td>\n",
       "      <td>13:32:50</td>\n",
       "      <td>11.938</td>\n",
       "      <td>126.427</td>\n",
       "      <td>Earthquake</td>\n",
       "      <td>15.0</td>\n",
       "      <td>5.8</td>\n",
       "      <td>MW</td>\n",
       "      <td>ISCGEM</td>\n",
       "      <td>Automatic</td>\n",
       "    </tr>\n",
       "  </tbody>\n",
       "</table>\n",
       "</div>"
      ],
      "text/plain": [
       "      EarthQ_ID  ID    Date      Time  Latitude  Longitude        Type  Depth  \\\n",
       "0  ISCGEM860706   1  1/2/65  13:44:18    19.246    145.616  Earthquake  131.6   \n",
       "1  ISCGEM860737   2  1/4/65  11:29:49     1.863    127.352  Earthquake   80.0   \n",
       "2  ISCGEM860762   3  1/5/65  18:05:58   -20.579   -173.972  Earthquake   20.0   \n",
       "3  ISCGEM860856   4  1/8/65  18:49:43   -59.076    -23.557  Earthquake   15.0   \n",
       "4  ISCGEM860890   5  1/9/65  13:32:50    11.938    126.427  Earthquake   15.0   \n",
       "\n",
       "   Magnitude Magnitude_Type  Source     Status  \n",
       "0        6.0             MW  ISCGEM  Automatic  \n",
       "1        5.8             MW  ISCGEM  Automatic  \n",
       "2        6.2             MW  ISCGEM  Automatic  \n",
       "3        5.8             MW  ISCGEM  Automatic  \n",
       "4        5.8             MW  ISCGEM  Automatic  "
      ]
     },
     "execution_count": 16,
     "metadata": {},
     "output_type": "execute_result"
    }
   ],
   "source": [
    "csv_file = \"Earthquake_v2.csv\"\n",
    "eq_df = pd.read_csv(csv_file)\n",
    "eq_df.head()"
   ]
  },
  {
   "cell_type": "code",
   "execution_count": 17,
   "metadata": {},
   "outputs": [],
   "source": [
    "eq_df['data_source'] = 'EARTHQUAKE'"
   ]
  },
  {
   "cell_type": "code",
   "execution_count": 18,
   "metadata": {},
   "outputs": [
    {
     "data": {
      "text/plain": [
       "['earthq_id',\n",
       " 'id',\n",
       " 'date',\n",
       " 'time',\n",
       " 'latitude',\n",
       " 'longitude',\n",
       " 'type',\n",
       " 'depth',\n",
       " 'magnitude',\n",
       " 'magnitude_type',\n",
       " 'source',\n",
       " 'status',\n",
       " 'data_source']"
      ]
     },
     "execution_count": 18,
     "metadata": {},
     "output_type": "execute_result"
    }
   ],
   "source": [
    "cols = []\n",
    "for col in eq_df.columns:\n",
    "    cols.append(col.lower())\n",
    "eq_df.columns = cols\n",
    "cols"
   ]
  },
  {
   "cell_type": "code",
   "execution_count": 19,
   "metadata": {},
   "outputs": [],
   "source": [
    "mytable_df=eq_df[['id',\n",
    " 'data_source',\n",
    " 'earthq_id',\n",
    " 'date',\n",
    " 'time',\n",
    " 'latitude',\n",
    " 'longitude',\n",
    " 'type',\n",
    " 'depth',\n",
    " 'magnitude',\n",
    " 'magnitude_type',\n",
    " 'source',\n",
    " 'status']]"
   ]
  },
  {
   "cell_type": "code",
   "execution_count": 20,
   "metadata": {},
   "outputs": [
    {
     "data": {
      "text/plain": [
       "Index(['id', 'data_source', 'earthq_id', 'date', 'time', 'latitude',\n",
       "       'longitude', 'type', 'depth', 'magnitude', 'magnitude_type', 'source',\n",
       "       'status'],\n",
       "      dtype='object')"
      ]
     },
     "execution_count": 20,
     "metadata": {},
     "output_type": "execute_result"
    }
   ],
   "source": [
    "mytable_df.columns"
   ]
  },
  {
   "cell_type": "code",
   "execution_count": 12,
   "metadata": {},
   "outputs": [],
   "source": [
    "rds_connection_string = \"postgres:[ENTER your password ]@localhost:5432/fema_disasters_db\"\n",
    "engine = create_engine(f'postgresql://{rds_connection_string}')"
   ]
  },
  {
   "cell_type": "code",
   "execution_count": 21,
   "metadata": {},
   "outputs": [
    {
     "data": {
      "text/plain": [
       "['location',\n",
       " 'data_source',\n",
       " 'wild_fire',\n",
       " 'natural_disaster',\n",
       " 'tornado',\n",
       " 'fema',\n",
       " 'earthquake']"
      ]
     },
     "execution_count": 21,
     "metadata": {},
     "output_type": "execute_result"
    }
   ],
   "source": [
    "engine.table_names()"
   ]
  },
  {
   "cell_type": "code",
   "execution_count": 22,
   "metadata": {},
   "outputs": [],
   "source": [
    "mytable_df.to_sql(name='earthquake', con=engine, if_exists='append', index=False)"
   ]
  },
  {
   "cell_type": "code",
   "execution_count": null,
   "metadata": {},
   "outputs": [],
   "source": []
  }
 ],
 "metadata": {
  "kernelspec": {
   "display_name": "Python 3",
   "language": "python",
   "name": "python3"
  },
  "language_info": {
   "codemirror_mode": {
    "name": "ipython",
    "version": 3
   },
   "file_extension": ".py",
   "mimetype": "text/x-python",
   "name": "python",
   "nbconvert_exporter": "python",
   "pygments_lexer": "ipython3",
   "version": "3.7.3"
  }
 },
 "nbformat": 4,
 "nbformat_minor": 2
}
