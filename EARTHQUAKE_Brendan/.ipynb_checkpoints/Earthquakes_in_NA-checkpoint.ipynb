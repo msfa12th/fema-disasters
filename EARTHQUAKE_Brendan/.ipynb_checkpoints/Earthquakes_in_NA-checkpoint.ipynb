{
 "cells": [
  {
   "cell_type": "code",
   "execution_count": 3,
   "metadata": {},
   "outputs": [],
   "source": [
    "import pandas as pd"
   ]
  },
  {
   "cell_type": "code",
   "execution_count": 8,
   "metadata": {},
   "outputs": [
    {
     "name": "stdout",
     "output_type": "stream",
     "text": [
      "23412\n"
     ]
    }
   ],
   "source": [
    "# Import the Earthquake CSV\n",
    "EQ_df = pd.read_csv(\"../Resources/Earthquake_v1.csv\")\n",
    "EQ_df = EQ_df.drop(['Depth Error', 'Depth Seismic Stations', 'Magnitude Error', 'Magnitude Seismic Stations', 'Azimuthal Gap', 'Horizontal Error', 'Horizontal Distance', 'Root Mean Square', 'Location Source', 'Magnitude Source',], axis=1)\n",
    "\n",
    "print(len(EQ_df))"
   ]
  },
  {
   "cell_type": "code",
   "execution_count": 9,
   "metadata": {},
   "outputs": [
    {
     "data": {
      "text/html": [
       "<div>\n",
       "<style scoped>\n",
       "    .dataframe tbody tr th:only-of-type {\n",
       "        vertical-align: middle;\n",
       "    }\n",
       "\n",
       "    .dataframe tbody tr th {\n",
       "        vertical-align: top;\n",
       "    }\n",
       "\n",
       "    .dataframe thead th {\n",
       "        text-align: right;\n",
       "    }\n",
       "</style>\n",
       "<table border=\"1\" class=\"dataframe\">\n",
       "  <thead>\n",
       "    <tr style=\"text-align: right;\">\n",
       "      <th></th>\n",
       "      <th>Date</th>\n",
       "      <th>Time</th>\n",
       "      <th>Latitude</th>\n",
       "      <th>Longitude</th>\n",
       "      <th>Type</th>\n",
       "      <th>Depth</th>\n",
       "      <th>Magnitude</th>\n",
       "      <th>Magnitude Type</th>\n",
       "      <th>ID</th>\n",
       "      <th>Source</th>\n",
       "      <th>Status</th>\n",
       "    </tr>\n",
       "  </thead>\n",
       "  <tbody>\n",
       "    <tr>\n",
       "      <th>0</th>\n",
       "      <td>01/02/1965</td>\n",
       "      <td>13:44:18</td>\n",
       "      <td>19.246</td>\n",
       "      <td>145.616</td>\n",
       "      <td>Earthquake</td>\n",
       "      <td>131.6</td>\n",
       "      <td>6.0</td>\n",
       "      <td>MW</td>\n",
       "      <td>ISCGEM860706</td>\n",
       "      <td>ISCGEM</td>\n",
       "      <td>Automatic</td>\n",
       "    </tr>\n",
       "    <tr>\n",
       "      <th>1</th>\n",
       "      <td>01/04/1965</td>\n",
       "      <td>11:29:49</td>\n",
       "      <td>1.863</td>\n",
       "      <td>127.352</td>\n",
       "      <td>Earthquake</td>\n",
       "      <td>80.0</td>\n",
       "      <td>5.8</td>\n",
       "      <td>MW</td>\n",
       "      <td>ISCGEM860737</td>\n",
       "      <td>ISCGEM</td>\n",
       "      <td>Automatic</td>\n",
       "    </tr>\n",
       "    <tr>\n",
       "      <th>2</th>\n",
       "      <td>01/05/1965</td>\n",
       "      <td>18:05:58</td>\n",
       "      <td>-20.579</td>\n",
       "      <td>-173.972</td>\n",
       "      <td>Earthquake</td>\n",
       "      <td>20.0</td>\n",
       "      <td>6.2</td>\n",
       "      <td>MW</td>\n",
       "      <td>ISCGEM860762</td>\n",
       "      <td>ISCGEM</td>\n",
       "      <td>Automatic</td>\n",
       "    </tr>\n",
       "    <tr>\n",
       "      <th>3</th>\n",
       "      <td>01/08/1965</td>\n",
       "      <td>18:49:43</td>\n",
       "      <td>-59.076</td>\n",
       "      <td>-23.557</td>\n",
       "      <td>Earthquake</td>\n",
       "      <td>15.0</td>\n",
       "      <td>5.8</td>\n",
       "      <td>MW</td>\n",
       "      <td>ISCGEM860856</td>\n",
       "      <td>ISCGEM</td>\n",
       "      <td>Automatic</td>\n",
       "    </tr>\n",
       "    <tr>\n",
       "      <th>4</th>\n",
       "      <td>01/09/1965</td>\n",
       "      <td>13:32:50</td>\n",
       "      <td>11.938</td>\n",
       "      <td>126.427</td>\n",
       "      <td>Earthquake</td>\n",
       "      <td>15.0</td>\n",
       "      <td>5.8</td>\n",
       "      <td>MW</td>\n",
       "      <td>ISCGEM860890</td>\n",
       "      <td>ISCGEM</td>\n",
       "      <td>Automatic</td>\n",
       "    </tr>\n",
       "  </tbody>\n",
       "</table>\n",
       "</div>"
      ],
      "text/plain": [
       "         Date      Time  Latitude  Longitude        Type  Depth  Magnitude  \\\n",
       "0  01/02/1965  13:44:18    19.246    145.616  Earthquake  131.6        6.0   \n",
       "1  01/04/1965  11:29:49     1.863    127.352  Earthquake   80.0        5.8   \n",
       "2  01/05/1965  18:05:58   -20.579   -173.972  Earthquake   20.0        6.2   \n",
       "3  01/08/1965  18:49:43   -59.076    -23.557  Earthquake   15.0        5.8   \n",
       "4  01/09/1965  13:32:50    11.938    126.427  Earthquake   15.0        5.8   \n",
       "\n",
       "  Magnitude Type            ID  Source     Status  \n",
       "0             MW  ISCGEM860706  ISCGEM  Automatic  \n",
       "1             MW  ISCGEM860737  ISCGEM  Automatic  \n",
       "2             MW  ISCGEM860762  ISCGEM  Automatic  \n",
       "3             MW  ISCGEM860856  ISCGEM  Automatic  \n",
       "4             MW  ISCGEM860890  ISCGEM  Automatic  "
      ]
     },
     "execution_count": 9,
     "metadata": {},
     "output_type": "execute_result"
    }
   ],
   "source": [
    "EQ_df.head()"
   ]
  },
  {
   "cell_type": "markdown",
   "metadata": {},
   "source": [
    "#### REMEMBER TO REIMPORT FROM CSV IF BELOW DROPPING FUNCTION NEEDS TO BE REDONE"
   ]
  },
  {
   "cell_type": "code",
   "execution_count": 5,
   "metadata": {
    "scrolled": false
   },
   "outputs": [
    {
     "name": "stdout",
     "output_type": "stream",
     "text": [
      "1153 1153\n"
     ]
    }
   ],
   "source": [
    "count = 0\n",
    "\n",
    "# Reduce the Indexes to just those concerning the USA (rough box around) via Latitude and Longitude checks\n",
    "\n",
    "for index, row in EQ_df.iterrows():\n",
    "    \n",
    "    lat = row[2]\n",
    "    lng = row[3]\n",
    "    if (20 < lat <= 50 and -130 <= lng <= -60) \\\n",
    "    or (50 < lat <= 75 and -180 <= lng <= -130):\n",
    "        count += 1\n",
    "    else:\n",
    "        EQ_df = EQ_df.drop(index)\n",
    "print(count, len(EQ_df))"
   ]
  },
  {
   "cell_type": "code",
   "execution_count": 6,
   "metadata": {},
   "outputs": [
    {
     "data": {
      "text/html": [
       "<div>\n",
       "<style scoped>\n",
       "    .dataframe tbody tr th:only-of-type {\n",
       "        vertical-align: middle;\n",
       "    }\n",
       "\n",
       "    .dataframe tbody tr th {\n",
       "        vertical-align: top;\n",
       "    }\n",
       "\n",
       "    .dataframe thead th {\n",
       "        text-align: right;\n",
       "    }\n",
       "</style>\n",
       "<table border=\"1\" class=\"dataframe\">\n",
       "  <thead>\n",
       "    <tr style=\"text-align: right;\">\n",
       "      <th></th>\n",
       "      <th>Date</th>\n",
       "      <th>Time</th>\n",
       "      <th>Latitude</th>\n",
       "      <th>Longitude</th>\n",
       "      <th>Type</th>\n",
       "      <th>Depth</th>\n",
       "      <th>Magnitude</th>\n",
       "      <th>Magnitude Type</th>\n",
       "      <th>ID</th>\n",
       "      <th>Source</th>\n",
       "      <th>Status</th>\n",
       "    </tr>\n",
       "  </thead>\n",
       "  <tbody>\n",
       "    <tr>\n",
       "      <th>0</th>\n",
       "      <td>02/06/1965</td>\n",
       "      <td>01:40:32</td>\n",
       "      <td>53.008</td>\n",
       "      <td>-162.008</td>\n",
       "      <td>Earthquake</td>\n",
       "      <td>17.8</td>\n",
       "      <td>6.4</td>\n",
       "      <td>MW</td>\n",
       "      <td>ISCGEM859637</td>\n",
       "      <td>ISCGEM</td>\n",
       "      <td>Automatic</td>\n",
       "    </tr>\n",
       "    <tr>\n",
       "      <th>1</th>\n",
       "      <td>02/06/1965</td>\n",
       "      <td>16:50:29</td>\n",
       "      <td>53.191</td>\n",
       "      <td>-161.859</td>\n",
       "      <td>Earthquake</td>\n",
       "      <td>22.5</td>\n",
       "      <td>6.3</td>\n",
       "      <td>MW</td>\n",
       "      <td>ISCGEM859712</td>\n",
       "      <td>ISCGEM</td>\n",
       "      <td>Automatic</td>\n",
       "    </tr>\n",
       "    <tr>\n",
       "      <th>2</th>\n",
       "      <td>02/27/1965</td>\n",
       "      <td>07:46:25</td>\n",
       "      <td>28.133</td>\n",
       "      <td>-112.208</td>\n",
       "      <td>Earthquake</td>\n",
       "      <td>10.0</td>\n",
       "      <td>6.0</td>\n",
       "      <td>MW</td>\n",
       "      <td>ISCGEM860614</td>\n",
       "      <td>ISCGEM</td>\n",
       "      <td>Automatic</td>\n",
       "    </tr>\n",
       "    <tr>\n",
       "      <th>3</th>\n",
       "      <td>03/13/1965</td>\n",
       "      <td>07:33:24</td>\n",
       "      <td>53.292</td>\n",
       "      <td>-162.331</td>\n",
       "      <td>Earthquake</td>\n",
       "      <td>20.0</td>\n",
       "      <td>5.7</td>\n",
       "      <td>MW</td>\n",
       "      <td>ISCGEM858558</td>\n",
       "      <td>ISCGEM</td>\n",
       "      <td>Automatic</td>\n",
       "    </tr>\n",
       "    <tr>\n",
       "      <th>4</th>\n",
       "      <td>04/16/1965</td>\n",
       "      <td>23:22:21</td>\n",
       "      <td>64.572</td>\n",
       "      <td>-160.375</td>\n",
       "      <td>Earthquake</td>\n",
       "      <td>15.0</td>\n",
       "      <td>6.0</td>\n",
       "      <td>MW</td>\n",
       "      <td>ISCGEM857809</td>\n",
       "      <td>ISCGEM</td>\n",
       "      <td>Automatic</td>\n",
       "    </tr>\n",
       "  </tbody>\n",
       "</table>\n",
       "</div>"
      ],
      "text/plain": [
       "         Date      Time  Latitude  Longitude        Type  Depth  Magnitude  \\\n",
       "0  02/06/1965  01:40:32    53.008   -162.008  Earthquake   17.8        6.4   \n",
       "1  02/06/1965  16:50:29    53.191   -161.859  Earthquake   22.5        6.3   \n",
       "2  02/27/1965  07:46:25    28.133   -112.208  Earthquake   10.0        6.0   \n",
       "3  03/13/1965  07:33:24    53.292   -162.331  Earthquake   20.0        5.7   \n",
       "4  04/16/1965  23:22:21    64.572   -160.375  Earthquake   15.0        6.0   \n",
       "\n",
       "  Magnitude Type            ID  Source     Status  \n",
       "0             MW  ISCGEM859637  ISCGEM  Automatic  \n",
       "1             MW  ISCGEM859712  ISCGEM  Automatic  \n",
       "2             MW  ISCGEM860614  ISCGEM  Automatic  \n",
       "3             MW  ISCGEM858558  ISCGEM  Automatic  \n",
       "4             MW  ISCGEM857809  ISCGEM  Automatic  "
      ]
     },
     "execution_count": 6,
     "metadata": {},
     "output_type": "execute_result"
    }
   ],
   "source": [
    "# Showcase the results focused around North America\n",
    "EQ_df.reset_index(drop=True)"
   ]
  },
  {
   "cell_type": "code",
   "execution_count": 12,
   "metadata": {},
   "outputs": [
    {
     "data": {
      "text/plain": [
       "['ID',\n",
       " 'Date',\n",
       " 'Time',\n",
       " 'Latitude',\n",
       " 'Longitude',\n",
       " 'Type',\n",
       " 'Depth',\n",
       " 'Magnitude',\n",
       " 'Magnitude Type',\n",
       " 'Source',\n",
       " 'Status']"
      ]
     },
     "execution_count": 12,
     "metadata": {},
     "output_type": "execute_result"
    }
   ],
   "source": [
    "# Move 'ID' Column to leftmost position\n",
    "cols = EQ_df.columns.tolist()\n",
    "\n",
    "cols.insert(0, cols.pop(cols.index('ID')))\n",
    "\n",
    "EQ_df."
   ]
  },
  {
   "cell_type": "code",
   "execution_count": 7,
   "metadata": {},
   "outputs": [],
   "source": [
    "# Save the results into an updated CSV\n",
    "EQ_df.to_csv('Earthquake_v2.csv')"
   ]
  }
 ],
 "metadata": {
  "kernelspec": {
   "display_name": "Python 3",
   "language": "python",
   "name": "python3"
  },
  "language_info": {
   "codemirror_mode": {
    "name": "ipython",
    "version": 3
   },
   "file_extension": ".py",
   "mimetype": "text/x-python",
   "name": "python",
   "nbconvert_exporter": "python",
   "pygments_lexer": "ipython3",
   "version": "3.7.3"
  }
 },
 "nbformat": 4,
 "nbformat_minor": 2
}
