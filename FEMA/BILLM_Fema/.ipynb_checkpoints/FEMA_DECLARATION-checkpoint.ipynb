{
 "cells": [
  {
   "cell_type": "code",
   "execution_count": 27,
   "metadata": {},
   "outputs": [],
   "source": [
    "import pandas as pd\n",
    "from sqlalchemy import create_engine"
   ]
  },
  {
   "cell_type": "code",
   "execution_count": 28,
   "metadata": {},
   "outputs": [
    {
     "data": {
      "text/html": [
       "<div>\n",
       "<style scoped>\n",
       "    .dataframe tbody tr th:only-of-type {\n",
       "        vertical-align: middle;\n",
       "    }\n",
       "\n",
       "    .dataframe tbody tr th {\n",
       "        vertical-align: top;\n",
       "    }\n",
       "\n",
       "    .dataframe thead th {\n",
       "        text-align: right;\n",
       "    }\n",
       "</style>\n",
       "<table border=\"1\" class=\"dataframe\">\n",
       "  <thead>\n",
       "    <tr style=\"text-align: right;\">\n",
       "      <th></th>\n",
       "      <th>ID</th>\n",
       "      <th>Disaster_Number</th>\n",
       "      <th>IH_Program_Declared</th>\n",
       "      <th>IA_Program_Declared</th>\n",
       "      <th>PA_Program_Declared</th>\n",
       "      <th>HM_Program_Declared</th>\n",
       "      <th>State</th>\n",
       "      <th>Declaration_Date</th>\n",
       "      <th>Disaster_Type</th>\n",
       "      <th>Incident_Type</th>\n",
       "      <th>Title</th>\n",
       "      <th>Incident_Begin_Date</th>\n",
       "      <th>Incident_End_Date</th>\n",
       "      <th>Disaster_Close_Out_Date</th>\n",
       "      <th>Place_Code</th>\n",
       "      <th>Declaration_Rquest_Number</th>\n",
       "      <th>Declared_County_Area</th>\n",
       "    </tr>\n",
       "  </thead>\n",
       "  <tbody>\n",
       "    <tr>\n",
       "      <th>0</th>\n",
       "      <td>1</td>\n",
       "      <td>4419</td>\n",
       "      <td>Yes</td>\n",
       "      <td>No</td>\n",
       "      <td>Yes</td>\n",
       "      <td>Yes</td>\n",
       "      <td>AL</td>\n",
       "      <td>3/5/2019</td>\n",
       "      <td>DR</td>\n",
       "      <td>Tornado</td>\n",
       "      <td>SEVERE STORMS, STRAIGHT-LINE WINDS, AND TORNADOES</td>\n",
       "      <td>3/3/2019</td>\n",
       "      <td>3/3/2019</td>\n",
       "      <td>NaN</td>\n",
       "      <td>99081.0</td>\n",
       "      <td>19006</td>\n",
       "      <td>Lee</td>\n",
       "    </tr>\n",
       "    <tr>\n",
       "      <th>1</th>\n",
       "      <td>2</td>\n",
       "      <td>4418</td>\n",
       "      <td>No</td>\n",
       "      <td>No</td>\n",
       "      <td>Yes</td>\n",
       "      <td>Yes</td>\n",
       "      <td>WA</td>\n",
       "      <td>3/4/2019</td>\n",
       "      <td>DR</td>\n",
       "      <td>Severe Storm(s)</td>\n",
       "      <td>SEVERE WINTER STORMS, STRAIGHT-LINE WINDS, FLO...</td>\n",
       "      <td>12/10/2018</td>\n",
       "      <td>12/24/2018</td>\n",
       "      <td>NaN</td>\n",
       "      <td>99009.0</td>\n",
       "      <td>19005</td>\n",
       "      <td>Clallam</td>\n",
       "    </tr>\n",
       "    <tr>\n",
       "      <th>2</th>\n",
       "      <td>3</td>\n",
       "      <td>4418</td>\n",
       "      <td>No</td>\n",
       "      <td>No</td>\n",
       "      <td>Yes</td>\n",
       "      <td>Yes</td>\n",
       "      <td>WA</td>\n",
       "      <td>3/4/2019</td>\n",
       "      <td>DR</td>\n",
       "      <td>Severe Storm(s)</td>\n",
       "      <td>SEVERE WINTER STORMS, STRAIGHT-LINE WINDS, FLO...</td>\n",
       "      <td>12/10/2018</td>\n",
       "      <td>12/24/2018</td>\n",
       "      <td>NaN</td>\n",
       "      <td>99027.0</td>\n",
       "      <td>19005</td>\n",
       "      <td>Grays Harbor</td>\n",
       "    </tr>\n",
       "    <tr>\n",
       "      <th>3</th>\n",
       "      <td>4</td>\n",
       "      <td>4418</td>\n",
       "      <td>No</td>\n",
       "      <td>No</td>\n",
       "      <td>Yes</td>\n",
       "      <td>Yes</td>\n",
       "      <td>WA</td>\n",
       "      <td>3/4/2019</td>\n",
       "      <td>DR</td>\n",
       "      <td>Severe Storm(s)</td>\n",
       "      <td>SEVERE WINTER STORMS, STRAIGHT-LINE WINDS, FLO...</td>\n",
       "      <td>12/10/2018</td>\n",
       "      <td>12/24/2018</td>\n",
       "      <td>NaN</td>\n",
       "      <td>99029.0</td>\n",
       "      <td>19005</td>\n",
       "      <td>Island</td>\n",
       "    </tr>\n",
       "    <tr>\n",
       "      <th>4</th>\n",
       "      <td>5</td>\n",
       "      <td>4418</td>\n",
       "      <td>No</td>\n",
       "      <td>No</td>\n",
       "      <td>Yes</td>\n",
       "      <td>Yes</td>\n",
       "      <td>WA</td>\n",
       "      <td>3/4/2019</td>\n",
       "      <td>DR</td>\n",
       "      <td>Severe Storm(s)</td>\n",
       "      <td>SEVERE WINTER STORMS, STRAIGHT-LINE WINDS, FLO...</td>\n",
       "      <td>12/10/2018</td>\n",
       "      <td>12/24/2018</td>\n",
       "      <td>NaN</td>\n",
       "      <td>99031.0</td>\n",
       "      <td>19005</td>\n",
       "      <td>Jefferson</td>\n",
       "    </tr>\n",
       "  </tbody>\n",
       "</table>\n",
       "</div>"
      ],
      "text/plain": [
       "   ID  Disaster_Number IH_Program_Declared IA_Program_Declared  \\\n",
       "0   1             4419                 Yes                  No   \n",
       "1   2             4418                  No                  No   \n",
       "2   3             4418                  No                  No   \n",
       "3   4             4418                  No                  No   \n",
       "4   5             4418                  No                  No   \n",
       "\n",
       "  PA_Program_Declared HM_Program_Declared State Declaration_Date  \\\n",
       "0                 Yes                 Yes    AL         3/5/2019   \n",
       "1                 Yes                 Yes    WA         3/4/2019   \n",
       "2                 Yes                 Yes    WA         3/4/2019   \n",
       "3                 Yes                 Yes    WA         3/4/2019   \n",
       "4                 Yes                 Yes    WA         3/4/2019   \n",
       "\n",
       "  Disaster_Type    Incident_Type  \\\n",
       "0            DR          Tornado   \n",
       "1            DR  Severe Storm(s)   \n",
       "2            DR  Severe Storm(s)   \n",
       "3            DR  Severe Storm(s)   \n",
       "4            DR  Severe Storm(s)   \n",
       "\n",
       "                                               Title Incident_Begin_Date  \\\n",
       "0  SEVERE STORMS, STRAIGHT-LINE WINDS, AND TORNADOES            3/3/2019   \n",
       "1  SEVERE WINTER STORMS, STRAIGHT-LINE WINDS, FLO...          12/10/2018   \n",
       "2  SEVERE WINTER STORMS, STRAIGHT-LINE WINDS, FLO...          12/10/2018   \n",
       "3  SEVERE WINTER STORMS, STRAIGHT-LINE WINDS, FLO...          12/10/2018   \n",
       "4  SEVERE WINTER STORMS, STRAIGHT-LINE WINDS, FLO...          12/10/2018   \n",
       "\n",
       "  Incident_End_Date Disaster_Close_Out_Date  Place_Code  \\\n",
       "0          3/3/2019                     NaN     99081.0   \n",
       "1        12/24/2018                     NaN     99009.0   \n",
       "2        12/24/2018                     NaN     99027.0   \n",
       "3        12/24/2018                     NaN     99029.0   \n",
       "4        12/24/2018                     NaN     99031.0   \n",
       "\n",
       "   Declaration_Rquest_Number Declared_County_Area  \n",
       "0                      19006                 Lee   \n",
       "1                      19005             Clallam   \n",
       "2                      19005        Grays Harbor   \n",
       "3                      19005              Island   \n",
       "4                      19005           Jefferson   "
      ]
     },
     "execution_count": 28,
     "metadata": {},
     "output_type": "execute_result"
    }
   ],
   "source": [
    "csv_file = \"FEMA_DECLARE.csv\"\n",
    "fema_df = pd.read_csv(csv_file, encoding='utf-8')\n",
    "fema_df.head()"
   ]
  },
  {
   "cell_type": "code",
   "execution_count": 29,
   "metadata": {},
   "outputs": [
    {
     "data": {
      "text/plain": [
       "['id',\n",
       " 'disaster_number',\n",
       " 'ih_program_declared',\n",
       " 'ia_program_declared',\n",
       " 'pa_program_declared',\n",
       " 'hm_program_declared',\n",
       " 'state',\n",
       " 'declaration_date',\n",
       " 'disaster_type',\n",
       " 'incident_type',\n",
       " 'title',\n",
       " 'incident_begin_date',\n",
       " 'incident_end_date',\n",
       " 'disaster_close_out_date',\n",
       " 'place_code',\n",
       " 'declaration_rquest_number',\n",
       " 'declared_county_area']"
      ]
     },
     "execution_count": 29,
     "metadata": {},
     "output_type": "execute_result"
    }
   ],
   "source": [
    "cols = []\n",
    "for col in fema_df.columns:\n",
    "    cols.append(col.lower())\n",
    "fema_df.columns = cols\n",
    "cols"
   ]
  },
  {
   "cell_type": "code",
   "execution_count": 30,
   "metadata": {},
   "outputs": [],
   "source": [
    "fema_df['data_source']='FEMA'"
   ]
  },
  {
   "cell_type": "code",
   "execution_count": 31,
   "metadata": {},
   "outputs": [
    {
     "data": {
      "text/plain": [
       "Index(['id', 'disaster_number', 'ih_program_declared', 'ia_program_declared',\n",
       "       'pa_program_declared', 'hm_program_declared', 'state',\n",
       "       'declaration_date', 'disaster_type', 'incident_type', 'title',\n",
       "       'incident_begin_date', 'incident_end_date', 'disaster_close_out_date',\n",
       "       'place_code', 'declaration_rquest_number', 'declared_county_area',\n",
       "       'data_source'],\n",
       "      dtype='object')"
      ]
     },
     "execution_count": 31,
     "metadata": {},
     "output_type": "execute_result"
    }
   ],
   "source": [
    "fema_df.columns"
   ]
  },
  {
   "cell_type": "code",
   "execution_count": 33,
   "metadata": {},
   "outputs": [],
   "source": [
    "new_fema_df = fema_df[['id','data_source', 'disaster_number', 'ih_program_declared', 'ia_program_declared',\n",
    "       'pa_program_declared', 'hm_program_declared', 'state',\n",
    "       'declaration_date', 'disaster_type', 'incident_type', 'title',\n",
    "       'incident_begin_date', 'incident_end_date', 'disaster_close_out_date',\n",
    "       'place_code', 'declaration_rquest_number', 'declared_county_area'\n",
    "       ]]"
   ]
  },
  {
   "cell_type": "code",
   "execution_count": 18,
   "metadata": {},
   "outputs": [],
   "source": [
    "rds_connection_string = \"<DB USER>:<Password>@localhost:5432/fema_disasters_db\"\n",
    "engine = create_engine(f'postgresql://{rds_connection_string}')"
   ]
  },
  {
   "cell_type": "code",
   "execution_count": 34,
   "metadata": {},
   "outputs": [],
   "source": [
    "engine.table_names()"
   ]
  },
  {
   "cell_type": "code",
   "execution_count": null,
   "metadata": {},
   "outputs": [],
   "source": [
    "new_fema_df.to_sql(name='fema', con=engine, if_exists='append', index=False)"
   ]
  }
 ],
 "metadata": {
  "kernelspec": {
   "display_name": "Python 3",
   "language": "python",
   "name": "python3"
  },
  "language_info": {
   "codemirror_mode": {
    "name": "ipython",
    "version": 3
   },
   "file_extension": ".py",
   "mimetype": "text/x-python",
   "name": "python",
   "nbconvert_exporter": "python",
   "pygments_lexer": "ipython3",
   "version": "3.7.3"
  }
 },
 "nbformat": 4,
 "nbformat_minor": 2
}
