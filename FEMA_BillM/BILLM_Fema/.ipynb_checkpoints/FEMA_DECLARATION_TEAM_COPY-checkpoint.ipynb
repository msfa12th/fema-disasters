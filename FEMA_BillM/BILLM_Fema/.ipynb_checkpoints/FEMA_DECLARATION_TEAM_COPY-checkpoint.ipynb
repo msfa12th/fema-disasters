{
 "cells": [
  {
   "cell_type": "markdown",
   "metadata": {},
   "source": [
    "## FEMA Disasters/ FEMA code"
   ]
  },
  {
   "attachments": {},
   "cell_type": "markdown",
   "metadata": {},
   "source": [
    "by Billy Martinez"
   ]
  },
  {
   "cell_type": "markdown",
   "metadata": {},
   "source": [
    "This application reads data from the FEMA disaster file. Then extracts necessary columns, transforms values as needed and loads into FEMA table. Finally via SQL code, it loads common fields into NATURAL_DISASTER table for easy comparison with other source data. Original source: https://www.fema.gov/media-library/assets/documents/28318"
   ]
  },
  {
   "cell_type": "code",
   "execution_count": 36,
   "metadata": {},
   "outputs": [],
   "source": [
    "import pandas as pd\n",
    "from sqlalchemy import create_engine"
   ]
  },
  {
   "cell_type": "code",
   "execution_count": 37,
   "metadata": {},
   "outputs": [
    {
     "data": {
      "text/html": [
       "<div>\n",
       "<style scoped>\n",
       "    .dataframe tbody tr th:only-of-type {\n",
       "        vertical-align: middle;\n",
       "    }\n",
       "\n",
       "    .dataframe tbody tr th {\n",
       "        vertical-align: top;\n",
       "    }\n",
       "\n",
       "    .dataframe thead th {\n",
       "        text-align: right;\n",
       "    }\n",
       "</style>\n",
       "<table border=\"1\" class=\"dataframe\">\n",
       "  <thead>\n",
       "    <tr style=\"text-align: right;\">\n",
       "      <th></th>\n",
       "      <th>ID</th>\n",
       "      <th>Disaster_Number</th>\n",
       "      <th>IH_Program_Declared</th>\n",
       "      <th>IA_Program_Declared</th>\n",
       "      <th>PA_Program_Declared</th>\n",
       "      <th>HM_Program_Declared</th>\n",
       "      <th>State</th>\n",
       "      <th>Declaration_Date</th>\n",
       "      <th>Disaster_Type</th>\n",
       "      <th>Incident_Type</th>\n",
       "      <th>Title</th>\n",
       "      <th>Incident_Begin_Date</th>\n",
       "      <th>Incident_End_Date</th>\n",
       "      <th>Disaster_Close_Out_Date</th>\n",
       "      <th>Place_Code</th>\n",
       "      <th>Declared_County_Area</th>\n",
       "      <th>Declaration_Rquest_Number</th>\n",
       "    </tr>\n",
       "  </thead>\n",
       "  <tbody>\n",
       "    <tr>\n",
       "      <th>0</th>\n",
       "      <td>1</td>\n",
       "      <td>4419</td>\n",
       "      <td>Yes</td>\n",
       "      <td>No</td>\n",
       "      <td>Yes</td>\n",
       "      <td>Yes</td>\n",
       "      <td>AL</td>\n",
       "      <td>3/5/19</td>\n",
       "      <td>DR</td>\n",
       "      <td>Tornado</td>\n",
       "      <td>SEVERE STORMS, STRAIGHT-LINE WINDS, AND TORNADOES</td>\n",
       "      <td>3/3/19</td>\n",
       "      <td>3/3/19</td>\n",
       "      <td>NaN</td>\n",
       "      <td>99081.0</td>\n",
       "      <td>Lee (County)</td>\n",
       "      <td>19006</td>\n",
       "    </tr>\n",
       "    <tr>\n",
       "      <th>1</th>\n",
       "      <td>2</td>\n",
       "      <td>4418</td>\n",
       "      <td>No</td>\n",
       "      <td>No</td>\n",
       "      <td>Yes</td>\n",
       "      <td>Yes</td>\n",
       "      <td>WA</td>\n",
       "      <td>3/4/19</td>\n",
       "      <td>DR</td>\n",
       "      <td>Severe Storm(s)</td>\n",
       "      <td>SEVERE WINTER STORMS, STRAIGHT-LINE WINDS, FLO...</td>\n",
       "      <td>12/10/18</td>\n",
       "      <td>12/24/18</td>\n",
       "      <td>NaN</td>\n",
       "      <td>99009.0</td>\n",
       "      <td>Clallam (County)</td>\n",
       "      <td>19005</td>\n",
       "    </tr>\n",
       "    <tr>\n",
       "      <th>2</th>\n",
       "      <td>3</td>\n",
       "      <td>4418</td>\n",
       "      <td>No</td>\n",
       "      <td>No</td>\n",
       "      <td>Yes</td>\n",
       "      <td>Yes</td>\n",
       "      <td>WA</td>\n",
       "      <td>3/4/19</td>\n",
       "      <td>DR</td>\n",
       "      <td>Severe Storm(s)</td>\n",
       "      <td>SEVERE WINTER STORMS, STRAIGHT-LINE WINDS, FLO...</td>\n",
       "      <td>12/10/18</td>\n",
       "      <td>12/24/18</td>\n",
       "      <td>NaN</td>\n",
       "      <td>99027.0</td>\n",
       "      <td>Grays Harbor (County)</td>\n",
       "      <td>19005</td>\n",
       "    </tr>\n",
       "    <tr>\n",
       "      <th>3</th>\n",
       "      <td>4</td>\n",
       "      <td>4418</td>\n",
       "      <td>No</td>\n",
       "      <td>No</td>\n",
       "      <td>Yes</td>\n",
       "      <td>Yes</td>\n",
       "      <td>WA</td>\n",
       "      <td>3/4/19</td>\n",
       "      <td>DR</td>\n",
       "      <td>Severe Storm(s)</td>\n",
       "      <td>SEVERE WINTER STORMS, STRAIGHT-LINE WINDS, FLO...</td>\n",
       "      <td>12/10/18</td>\n",
       "      <td>12/24/18</td>\n",
       "      <td>NaN</td>\n",
       "      <td>99029.0</td>\n",
       "      <td>Island (County)</td>\n",
       "      <td>19005</td>\n",
       "    </tr>\n",
       "    <tr>\n",
       "      <th>4</th>\n",
       "      <td>5</td>\n",
       "      <td>4418</td>\n",
       "      <td>No</td>\n",
       "      <td>No</td>\n",
       "      <td>Yes</td>\n",
       "      <td>Yes</td>\n",
       "      <td>WA</td>\n",
       "      <td>3/4/19</td>\n",
       "      <td>DR</td>\n",
       "      <td>Severe Storm(s)</td>\n",
       "      <td>SEVERE WINTER STORMS, STRAIGHT-LINE WINDS, FLO...</td>\n",
       "      <td>12/10/18</td>\n",
       "      <td>12/24/18</td>\n",
       "      <td>NaN</td>\n",
       "      <td>99031.0</td>\n",
       "      <td>Jefferson (County)</td>\n",
       "      <td>19005</td>\n",
       "    </tr>\n",
       "  </tbody>\n",
       "</table>\n",
       "</div>"
      ],
      "text/plain": [
       "   ID  Disaster_Number IH_Program_Declared IA_Program_Declared  \\\n",
       "0   1             4419                 Yes                  No   \n",
       "1   2             4418                  No                  No   \n",
       "2   3             4418                  No                  No   \n",
       "3   4             4418                  No                  No   \n",
       "4   5             4418                  No                  No   \n",
       "\n",
       "  PA_Program_Declared HM_Program_Declared State Declaration_Date  \\\n",
       "0                 Yes                 Yes    AL           3/5/19   \n",
       "1                 Yes                 Yes    WA           3/4/19   \n",
       "2                 Yes                 Yes    WA           3/4/19   \n",
       "3                 Yes                 Yes    WA           3/4/19   \n",
       "4                 Yes                 Yes    WA           3/4/19   \n",
       "\n",
       "  Disaster_Type    Incident_Type  \\\n",
       "0            DR          Tornado   \n",
       "1            DR  Severe Storm(s)   \n",
       "2            DR  Severe Storm(s)   \n",
       "3            DR  Severe Storm(s)   \n",
       "4            DR  Severe Storm(s)   \n",
       "\n",
       "                                               Title Incident_Begin_Date  \\\n",
       "0  SEVERE STORMS, STRAIGHT-LINE WINDS, AND TORNADOES              3/3/19   \n",
       "1  SEVERE WINTER STORMS, STRAIGHT-LINE WINDS, FLO...            12/10/18   \n",
       "2  SEVERE WINTER STORMS, STRAIGHT-LINE WINDS, FLO...            12/10/18   \n",
       "3  SEVERE WINTER STORMS, STRAIGHT-LINE WINDS, FLO...            12/10/18   \n",
       "4  SEVERE WINTER STORMS, STRAIGHT-LINE WINDS, FLO...            12/10/18   \n",
       "\n",
       "  Incident_End_Date Disaster_Close_Out_Date  Place_Code  \\\n",
       "0            3/3/19                     NaN     99081.0   \n",
       "1          12/24/18                     NaN     99009.0   \n",
       "2          12/24/18                     NaN     99027.0   \n",
       "3          12/24/18                     NaN     99029.0   \n",
       "4          12/24/18                     NaN     99031.0   \n",
       "\n",
       "    Declared_County_Area  Declaration_Rquest_Number  \n",
       "0           Lee (County)                      19006  \n",
       "1       Clallam (County)                      19005  \n",
       "2  Grays Harbor (County)                      19005  \n",
       "3        Island (County)                      19005  \n",
       "4     Jefferson (County)                      19005  "
      ]
     },
     "execution_count": 37,
     "metadata": {},
     "output_type": "execute_result"
    }
   ],
   "source": [
    "csv_file = \"FEMA_DECLARE.csv\"\n",
    "fema_df = pd.read_csv(csv_file, encoding='utf-8')\n",
    "fema_df.head()"
   ]
  },
  {
   "cell_type": "code",
   "execution_count": 38,
   "metadata": {},
   "outputs": [
    {
     "data": {
      "text/plain": [
       "Index(['ID', 'Disaster_Number', 'IH_Program_Declared', 'IA_Program_Declared',\n",
       "       'PA_Program_Declared', 'HM_Program_Declared', 'State',\n",
       "       'Declaration_Date', 'Disaster_Type', 'Incident_Type', 'Title',\n",
       "       'Incident_Begin_Date', 'Incident_End_Date', 'Disaster_Close_Out_Date',\n",
       "       'Place_Code', 'Declared_County_Area', 'Declaration_Rquest_Number'],\n",
       "      dtype='object')"
      ]
     },
     "execution_count": 38,
     "metadata": {},
     "output_type": "execute_result"
    }
   ],
   "source": [
    "fema_df.columns"
   ]
  },
  {
   "cell_type": "code",
   "execution_count": 39,
   "metadata": {},
   "outputs": [],
   "source": [
    "new_fema_df = fema_df"
   ]
  },
  {
   "cell_type": "code",
   "execution_count": 40,
   "metadata": {},
   "outputs": [],
   "source": [
    "new_fema_df['data_source'] = 'FEMA'"
   ]
  },
  {
   "cell_type": "code",
   "execution_count": 41,
   "metadata": {},
   "outputs": [
    {
     "data": {
      "text/plain": [
       "Index(['ID', 'Disaster_Number', 'IH_Program_Declared', 'IA_Program_Declared',\n",
       "       'PA_Program_Declared', 'HM_Program_Declared', 'State',\n",
       "       'Declaration_Date', 'Disaster_Type', 'Incident_Type', 'Title',\n",
       "       'Incident_Begin_Date', 'Incident_End_Date', 'Disaster_Close_Out_Date',\n",
       "       'Place_Code', 'Declared_County_Area', 'Declaration_Rquest_Number',\n",
       "       'data_source'],\n",
       "      dtype='object')"
      ]
     },
     "execution_count": 41,
     "metadata": {},
     "output_type": "execute_result"
    }
   ],
   "source": [
    "new_fema_df.columns"
   ]
  },
  {
   "cell_type": "code",
   "execution_count": 44,
   "metadata": {},
   "outputs": [
    {
     "data": {
      "text/html": [
       "<div>\n",
       "<style scoped>\n",
       "    .dataframe tbody tr th:only-of-type {\n",
       "        vertical-align: middle;\n",
       "    }\n",
       "\n",
       "    .dataframe tbody tr th {\n",
       "        vertical-align: top;\n",
       "    }\n",
       "\n",
       "    .dataframe thead th {\n",
       "        text-align: right;\n",
       "    }\n",
       "</style>\n",
       "<table border=\"1\" class=\"dataframe\">\n",
       "  <thead>\n",
       "    <tr style=\"text-align: right;\">\n",
       "      <th></th>\n",
       "      <th>id</th>\n",
       "      <th>disaster_number</th>\n",
       "      <th>ih_program_declared</th>\n",
       "      <th>ia_program_declared</th>\n",
       "      <th>pa_program_declared</th>\n",
       "      <th>hm_program_declared</th>\n",
       "      <th>state</th>\n",
       "      <th>declaration_date</th>\n",
       "      <th>disaster_type</th>\n",
       "      <th>incident_type</th>\n",
       "      <th>title</th>\n",
       "      <th>incident_begin_date</th>\n",
       "      <th>incident_end_date</th>\n",
       "      <th>disaster_close_out_date</th>\n",
       "      <th>place_code</th>\n",
       "      <th>declared_county_area</th>\n",
       "      <th>declaration_rquest_number</th>\n",
       "      <th>data_source</th>\n",
       "    </tr>\n",
       "  </thead>\n",
       "  <tbody>\n",
       "    <tr>\n",
       "      <th>0</th>\n",
       "      <td>1</td>\n",
       "      <td>4419</td>\n",
       "      <td>Yes</td>\n",
       "      <td>No</td>\n",
       "      <td>Yes</td>\n",
       "      <td>Yes</td>\n",
       "      <td>AL</td>\n",
       "      <td>3/5/19</td>\n",
       "      <td>DR</td>\n",
       "      <td>Tornado</td>\n",
       "      <td>SEVERE STORMS, STRAIGHT-LINE WINDS, AND TORNADOES</td>\n",
       "      <td>3/3/19</td>\n",
       "      <td>3/3/19</td>\n",
       "      <td>NaN</td>\n",
       "      <td>99081.0</td>\n",
       "      <td>Lee (County)</td>\n",
       "      <td>19006</td>\n",
       "      <td>FEMA</td>\n",
       "    </tr>\n",
       "    <tr>\n",
       "      <th>1</th>\n",
       "      <td>2</td>\n",
       "      <td>4418</td>\n",
       "      <td>No</td>\n",
       "      <td>No</td>\n",
       "      <td>Yes</td>\n",
       "      <td>Yes</td>\n",
       "      <td>WA</td>\n",
       "      <td>3/4/19</td>\n",
       "      <td>DR</td>\n",
       "      <td>Severe Storm(s)</td>\n",
       "      <td>SEVERE WINTER STORMS, STRAIGHT-LINE WINDS, FLO...</td>\n",
       "      <td>12/10/18</td>\n",
       "      <td>12/24/18</td>\n",
       "      <td>NaN</td>\n",
       "      <td>99009.0</td>\n",
       "      <td>Clallam (County)</td>\n",
       "      <td>19005</td>\n",
       "      <td>FEMA</td>\n",
       "    </tr>\n",
       "    <tr>\n",
       "      <th>2</th>\n",
       "      <td>3</td>\n",
       "      <td>4418</td>\n",
       "      <td>No</td>\n",
       "      <td>No</td>\n",
       "      <td>Yes</td>\n",
       "      <td>Yes</td>\n",
       "      <td>WA</td>\n",
       "      <td>3/4/19</td>\n",
       "      <td>DR</td>\n",
       "      <td>Severe Storm(s)</td>\n",
       "      <td>SEVERE WINTER STORMS, STRAIGHT-LINE WINDS, FLO...</td>\n",
       "      <td>12/10/18</td>\n",
       "      <td>12/24/18</td>\n",
       "      <td>NaN</td>\n",
       "      <td>99027.0</td>\n",
       "      <td>Grays Harbor (County)</td>\n",
       "      <td>19005</td>\n",
       "      <td>FEMA</td>\n",
       "    </tr>\n",
       "    <tr>\n",
       "      <th>3</th>\n",
       "      <td>4</td>\n",
       "      <td>4418</td>\n",
       "      <td>No</td>\n",
       "      <td>No</td>\n",
       "      <td>Yes</td>\n",
       "      <td>Yes</td>\n",
       "      <td>WA</td>\n",
       "      <td>3/4/19</td>\n",
       "      <td>DR</td>\n",
       "      <td>Severe Storm(s)</td>\n",
       "      <td>SEVERE WINTER STORMS, STRAIGHT-LINE WINDS, FLO...</td>\n",
       "      <td>12/10/18</td>\n",
       "      <td>12/24/18</td>\n",
       "      <td>NaN</td>\n",
       "      <td>99029.0</td>\n",
       "      <td>Island (County)</td>\n",
       "      <td>19005</td>\n",
       "      <td>FEMA</td>\n",
       "    </tr>\n",
       "    <tr>\n",
       "      <th>4</th>\n",
       "      <td>5</td>\n",
       "      <td>4418</td>\n",
       "      <td>No</td>\n",
       "      <td>No</td>\n",
       "      <td>Yes</td>\n",
       "      <td>Yes</td>\n",
       "      <td>WA</td>\n",
       "      <td>3/4/19</td>\n",
       "      <td>DR</td>\n",
       "      <td>Severe Storm(s)</td>\n",
       "      <td>SEVERE WINTER STORMS, STRAIGHT-LINE WINDS, FLO...</td>\n",
       "      <td>12/10/18</td>\n",
       "      <td>12/24/18</td>\n",
       "      <td>NaN</td>\n",
       "      <td>99031.0</td>\n",
       "      <td>Jefferson (County)</td>\n",
       "      <td>19005</td>\n",
       "      <td>FEMA</td>\n",
       "    </tr>\n",
       "  </tbody>\n",
       "</table>\n",
       "</div>"
      ],
      "text/plain": [
       "   id  disaster_number ih_program_declared ia_program_declared  \\\n",
       "0   1             4419                 Yes                  No   \n",
       "1   2             4418                  No                  No   \n",
       "2   3             4418                  No                  No   \n",
       "3   4             4418                  No                  No   \n",
       "4   5             4418                  No                  No   \n",
       "\n",
       "  pa_program_declared hm_program_declared state declaration_date  \\\n",
       "0                 Yes                 Yes    AL           3/5/19   \n",
       "1                 Yes                 Yes    WA           3/4/19   \n",
       "2                 Yes                 Yes    WA           3/4/19   \n",
       "3                 Yes                 Yes    WA           3/4/19   \n",
       "4                 Yes                 Yes    WA           3/4/19   \n",
       "\n",
       "  disaster_type    incident_type  \\\n",
       "0            DR          Tornado   \n",
       "1            DR  Severe Storm(s)   \n",
       "2            DR  Severe Storm(s)   \n",
       "3            DR  Severe Storm(s)   \n",
       "4            DR  Severe Storm(s)   \n",
       "\n",
       "                                               title incident_begin_date  \\\n",
       "0  SEVERE STORMS, STRAIGHT-LINE WINDS, AND TORNADOES              3/3/19   \n",
       "1  SEVERE WINTER STORMS, STRAIGHT-LINE WINDS, FLO...            12/10/18   \n",
       "2  SEVERE WINTER STORMS, STRAIGHT-LINE WINDS, FLO...            12/10/18   \n",
       "3  SEVERE WINTER STORMS, STRAIGHT-LINE WINDS, FLO...            12/10/18   \n",
       "4  SEVERE WINTER STORMS, STRAIGHT-LINE WINDS, FLO...            12/10/18   \n",
       "\n",
       "  incident_end_date disaster_close_out_date  place_code  \\\n",
       "0            3/3/19                     NaN     99081.0   \n",
       "1          12/24/18                     NaN     99009.0   \n",
       "2          12/24/18                     NaN     99027.0   \n",
       "3          12/24/18                     NaN     99029.0   \n",
       "4          12/24/18                     NaN     99031.0   \n",
       "\n",
       "    declared_county_area  declaration_rquest_number data_source  \n",
       "0           Lee (County)                      19006        FEMA  \n",
       "1       Clallam (County)                      19005        FEMA  \n",
       "2  Grays Harbor (County)                      19005        FEMA  \n",
       "3        Island (County)                      19005        FEMA  \n",
       "4     Jefferson (County)                      19005        FEMA  "
      ]
     },
     "execution_count": 44,
     "metadata": {},
     "output_type": "execute_result"
    }
   ],
   "source": [
    "new_fema_df.head()"
   ]
  },
  {
   "cell_type": "code",
   "execution_count": 45,
   "metadata": {},
   "outputs": [
    {
     "data": {
      "text/plain": [
       "['id',\n",
       " 'disaster_number',\n",
       " 'ih_program_declared',\n",
       " 'ia_program_declared',\n",
       " 'pa_program_declared',\n",
       " 'hm_program_declared',\n",
       " 'state',\n",
       " 'declaration_date',\n",
       " 'disaster_type',\n",
       " 'incident_type',\n",
       " 'title',\n",
       " 'incident_begin_date',\n",
       " 'incident_end_date',\n",
       " 'disaster_close_out_date',\n",
       " 'place_code',\n",
       " 'declared_county_area',\n",
       " 'declaration_rquest_number',\n",
       " 'data_source']"
      ]
     },
     "execution_count": 45,
     "metadata": {},
     "output_type": "execute_result"
    }
   ],
   "source": [
    "cols = []\n",
    "for col in new_fema_df.columns:\n",
    "    cols.append(col.lower())\n",
    "new_fema_df.columns = cols\n",
    "cols"
   ]
  },
  {
   "cell_type": "code",
   "execution_count": 47,
   "metadata": {},
   "outputs": [],
   "source": [
    "myTable_df = new_fema_df[['id',\n",
    " 'data_source',\n",
    " 'disaster_number',\n",
    " 'ih_program_declared',\n",
    " 'ia_program_declared',\n",
    " 'pa_program_declared',\n",
    " 'hm_program_declared',\n",
    " 'state',\n",
    " 'declaration_date',\n",
    " 'disaster_type',\n",
    " 'incident_type',\n",
    " 'title',\n",
    " 'incident_begin_date',\n",
    " 'incident_end_date',\n",
    " 'disaster_close_out_date',\n",
    " 'place_code',\n",
    " 'declared_county_area',\n",
    " 'declaration_rquest_number'\n",
    " ]]"
   ]
  },
  {
   "cell_type": "code",
   "execution_count": 22,
   "metadata": {},
   "outputs": [
    {
     "data": {
      "text/plain": [
       "0    4419\n",
       "1    4418\n",
       "2    4418\n",
       "3    4418\n",
       "4    4418\n",
       "Name: disaster number, dtype: int64"
      ]
     },
     "execution_count": 22,
     "metadata": {},
     "output_type": "execute_result"
    }
   ],
   "source": [
    "myTable_df['disaster number'].head()"
   ]
  },
  {
   "cell_type": "code",
   "execution_count": 48,
   "metadata": {},
   "outputs": [
    {
     "data": {
      "text/plain": [
       "Index(['id', 'data_source', 'disaster_number', 'ih_program_declared',\n",
       "       'ia_program_declared', 'pa_program_declared', 'hm_program_declared',\n",
       "       'state', 'declaration_date', 'disaster_type', 'incident_type', 'title',\n",
       "       'incident_begin_date', 'incident_end_date', 'disaster_close_out_date',\n",
       "       'place_code', 'declared_county_area', 'declaration_rquest_number'],\n",
       "      dtype='object')"
      ]
     },
     "execution_count": 48,
     "metadata": {},
     "output_type": "execute_result"
    }
   ],
   "source": [
    "myTable_df.columns"
   ]
  },
  {
   "cell_type": "code",
   "execution_count": 49,
   "metadata": {},
   "outputs": [],
   "source": [
    "rds_connection_string = \"postgres:my74ETERNITY@localhost:5432/fema_disasters_db\"\n",
    "engine = create_engine(f'postgresql://{rds_connection_string}')"
   ]
  },
  {
   "cell_type": "code",
   "execution_count": 50,
   "metadata": {},
   "outputs": [
    {
     "data": {
      "text/plain": [
       "['location',\n",
       " 'earthquake',\n",
       " 'data_source',\n",
       " 'wild_fire',\n",
       " 'natural_disaster',\n",
       " 'tornado',\n",
       " 'fema']"
      ]
     },
     "execution_count": 50,
     "metadata": {},
     "output_type": "execute_result"
    }
   ],
   "source": [
    "engine.table_names()"
   ]
  },
  {
   "cell_type": "code",
   "execution_count": 53,
   "metadata": {},
   "outputs": [],
   "source": [
    "myTable_df.to_sql(name='fema', con=engine, if_exists='append', index=False)"
   ]
  },
  {
   "cell_type": "code",
   "execution_count": null,
   "metadata": {},
   "outputs": [],
   "source": []
  }
 ],
 "metadata": {
  "kernelspec": {
   "display_name": "Python 3",
   "language": "python",
   "name": "python3"
  },
  "language_info": {
   "codemirror_mode": {
    "name": "ipython",
    "version": 3
   },
   "file_extension": ".py",
   "mimetype": "text/x-python",
   "name": "python",
   "nbconvert_exporter": "python",
   "pygments_lexer": "ipython3",
   "version": "3.7.3"
  }
 },
 "nbformat": 4,
 "nbformat_minor": 2
}
